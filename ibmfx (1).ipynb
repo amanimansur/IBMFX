{
  "metadata": {
    "language_info": {
      "codemirror_mode": {
        "name": "python",
        "version": 3
      },
      "file_extension": ".py",
      "mimetype": "text/x-python",
      "name": "python",
      "nbconvert_exporter": "python",
      "pygments_lexer": "ipython3",
      "version": "3.8"
    },
    "kernelspec": {
      "name": "python",
      "display_name": "Python (Pyodide)",
      "language": "python"
    }
  },
  "nbformat_minor": 4,
  "nbformat": 4,
  "cells": [
    {
      "cell_type": "markdown",
      "source": "## My Jupyter Notebook on IBM Watson",
      "metadata": {}
    },
    {
      "cell_type": "markdown",
      "source": "**Amani Mansur**",
      "metadata": {}
    },
    {
      "cell_type": "markdown",
      "source": "Data Analyst",
      "metadata": {}
    },
    {
      "cell_type": "markdown",
      "source": "*I am interested in Data Analytics because of its versitile branches of career oppurtunities. Also ive always loved numbers so it fits well with my skills*",
      "metadata": {}
    },
    {
      "cell_type": "code",
      "source": "a=2\nb=4\n(a+b)",
      "metadata": {
        "trusted": true
      },
      "execution_count": 2,
      "outputs": [
        {
          "execution_count": 2,
          "output_type": "execute_result",
          "data": {
            "text/plain": "6"
          },
          "metadata": {}
        }
      ]
    },
    {
      "cell_type": "markdown",
      "source": "***",
      "metadata": {}
    },
    {
      "cell_type": "markdown",
      "source": "![alt text here](https://github.com/shinokada/python-for-ib-diploma-mathematics/blob/master/image/jupyter_logo.png \"Logo Title Jupyter Notebook logo\")",
      "metadata": {}
    },
    {
      "cell_type": "markdown",
      "source": "1. Numbered Item\n2. Numbered Item",
      "metadata": {}
    },
    {
      "cell_type": "code",
      "source": "",
      "metadata": {},
      "execution_count": null,
      "outputs": []
    }
  ]
}